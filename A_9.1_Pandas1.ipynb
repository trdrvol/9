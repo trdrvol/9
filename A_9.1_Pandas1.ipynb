{
 "cells": [
  {
   "cell_type": "code",
   "execution_count": null,
   "metadata": {},
   "outputs": [],
   "source": [
    "\"\"\"\n",
    "Problem Statement\n",
    "\n",
    "1) How-to-count-distance-to-the-previous-zero\n",
    "For each value, count the difference back to the previous zero (or the start of the Series,\n",
    "whichever is closer)\n",
    "create a new column 'Y'\n",
    "Consider a DataFrame df where there is an integer column 'X'\n",
    "import pandas as pd\n",
    "df = pd.DataFrame({'X': [7, 2, 0, 3, 4, 2, 5, 0, 3, 4]})\n",
    "\n",
    "2) Create a DatetimeIndex that contains each business day of 2015 and use it to index a\n",
    "Series of random numbers.\n",
    "\n",
    "3) Find the sum of the values in s for every Wednesday\n",
    "\n",
    "4) Average For each calendar month\n",
    "\n",
    "5) For each group of four consecutive calendar months in s, find the date on which the\n",
    "highest value occurred.\n",
    "\"\"\""
   ]
  },
  {
   "cell_type": "code",
   "execution_count": 2,
   "metadata": {
    "scrolled": false
   },
   "outputs": [
    {
     "name": "stdout",
     "output_type": "stream",
     "text": [
      "   X    Y\n",
      "0  7  1.0\n",
      "1  2  2.0\n",
      "2  0  0.0\n",
      "3  3  1.0\n",
      "4  4  2.0\n",
      "5  2  3.0\n",
      "6  5  4.0\n",
      "7  0  0.0\n",
      "8  3  1.0\n",
      "9  4  2.0\n"
     ]
    }
   ],
   "source": [
    "# 1 Distance to previous zero\n",
    "import pandas as pd\n",
    "import numpy as np\n",
    "import os\n",
    "import matplotlib.pyplot as plt\n",
    "import datetime as dt\n",
    "\n",
    "df = pd.DataFrame({'X': [7, 2, 0, 3, 4, 2, 5, 0, 3, 4]})\n",
    "a = (df.X != 0).cumsum()\n",
    "y = a != a.shift()\n",
    "df[\"Y\"] = y.groupby((y != y.shift()).cumsum()).cumsum()\n",
    "print(df)"
   ]
  },
  {
   "cell_type": "code",
   "execution_count": null,
   "metadata": {},
   "outputs": [],
   "source": [
    "#2) Create a DatetimeIndex that contains each business day of 2015 and use it to index a\n",
    "#   Series of random numbers."
   ]
  },
  {
   "cell_type": "code",
   "execution_count": 3,
   "metadata": {},
   "outputs": [
    {
     "data": {
      "text/plain": [
       "2015-01-01    37\n",
       "2015-01-02     8\n",
       "2015-01-05    19\n",
       "2015-01-06    32\n",
       "2015-01-07    11\n",
       "2015-01-08    43\n",
       "2015-01-09     1\n",
       "2015-01-12     7\n",
       "2015-01-13    50\n",
       "2015-01-14     7\n",
       "2015-01-15    20\n",
       "2015-01-16    13\n",
       "2015-01-19    25\n",
       "2015-01-20    24\n",
       "2015-01-21    33\n",
       "2015-01-22    32\n",
       "2015-01-23     4\n",
       "2015-01-26    26\n",
       "2015-01-27    29\n",
       "2015-01-28    16\n",
       "2015-01-29    29\n",
       "2015-01-30    35\n",
       "2015-02-02    47\n",
       "2015-02-03    49\n",
       "2015-02-04    40\n",
       "2015-02-05     6\n",
       "2015-02-06    37\n",
       "2015-02-09    27\n",
       "2015-02-10    41\n",
       "2015-02-11    49\n",
       "              ..\n",
       "2015-11-20    13\n",
       "2015-11-23     2\n",
       "2015-11-24    45\n",
       "2015-11-25     6\n",
       "2015-11-26    19\n",
       "2015-11-27    15\n",
       "2015-11-30    14\n",
       "2015-12-01    50\n",
       "2015-12-02    16\n",
       "2015-12-03    17\n",
       "2015-12-04    48\n",
       "2015-12-07    41\n",
       "2015-12-08    25\n",
       "2015-12-09    11\n",
       "2015-12-10    35\n",
       "2015-12-11    34\n",
       "2015-12-14    13\n",
       "2015-12-15    19\n",
       "2015-12-16    42\n",
       "2015-12-17    42\n",
       "2015-12-18    16\n",
       "2015-12-21     5\n",
       "2015-12-22    19\n",
       "2015-12-23    32\n",
       "2015-12-24    33\n",
       "2015-12-25    48\n",
       "2015-12-28    21\n",
       "2015-12-29     8\n",
       "2015-12-30    12\n",
       "2015-12-31    27\n",
       "Freq: B, Length: 261, dtype: int32"
      ]
     },
     "execution_count": 3,
     "metadata": {},
     "output_type": "execute_result"
    }
   ],
   "source": [
    "DTIndex = pd.date_range(start='2015-01-01', end='2015-12-31', freq='B') \n",
    "S = pd.Series(np.random.randint(1,51,261) , index=DTIndex)\n",
    "S"
   ]
  },
  {
   "cell_type": "code",
   "execution_count": null,
   "metadata": {},
   "outputs": [],
   "source": [
    "# 3) Find the sum of the values in s for every Wednesday"
   ]
  },
  {
   "cell_type": "code",
   "execution_count": 4,
   "metadata": {},
   "outputs": [
    {
     "data": {
      "text/plain": [
       "1332"
      ]
     },
     "execution_count": 4,
     "metadata": {},
     "output_type": "execute_result"
    }
   ],
   "source": [
    "S[DTIndex.weekday == 2].sum()"
   ]
  },
  {
   "cell_type": "code",
   "execution_count": null,
   "metadata": {},
   "outputs": [],
   "source": [
    "# 4) Average For each calendar month"
   ]
  },
  {
   "cell_type": "code",
   "execution_count": 5,
   "metadata": {
    "scrolled": true
   },
   "outputs": [
    {
     "data": {
      "text/plain": [
       "2015-01-31    22.772727\n",
       "2015-02-28    25.100000\n",
       "2015-03-31    26.681818\n",
       "2015-04-30    27.454545\n",
       "2015-05-31    31.142857\n",
       "2015-06-30    29.090909\n",
       "2015-07-31    20.695652\n",
       "2015-08-31    21.809524\n",
       "2015-09-30    31.363636\n",
       "2015-10-31    24.818182\n",
       "2015-11-30    25.476190\n",
       "2015-12-31    26.695652\n",
       "Freq: M, dtype: float64"
      ]
     },
     "execution_count": 5,
     "metadata": {},
     "output_type": "execute_result"
    }
   ],
   "source": [
    "S.resample(\"M\").mean()"
   ]
  },
  {
   "cell_type": "code",
   "execution_count": null,
   "metadata": {},
   "outputs": [],
   "source": [
    "# 5) For each group of four consecutive calendar months in s, find the date on which the\n",
    "# highest value occurred."
   ]
  },
  {
   "cell_type": "code",
   "execution_count": 6,
   "metadata": {},
   "outputs": [
    {
     "data": {
      "text/plain": [
       "2015-01-31   2015-01-13\n",
       "2015-05-31   2015-05-26\n",
       "2015-09-30   2015-09-28\n",
       "2016-01-31   2015-12-01\n",
       "dtype: datetime64[ns]"
      ]
     },
     "execution_count": 6,
     "metadata": {},
     "output_type": "execute_result"
    }
   ],
   "source": [
    "S.groupby(pd.Grouper(freq=\"4M\")).idxmax()"
   ]
  }
 ],
 "metadata": {
  "kernelspec": {
   "display_name": "Python 3",
   "language": "python",
   "name": "python3"
  },
  "language_info": {
   "codemirror_mode": {
    "name": "ipython",
    "version": 3
   },
   "file_extension": ".py",
   "mimetype": "text/x-python",
   "name": "python",
   "nbconvert_exporter": "python",
   "pygments_lexer": "ipython3",
   "version": "3.6.4"
  }
 },
 "nbformat": 4,
 "nbformat_minor": 2
}
